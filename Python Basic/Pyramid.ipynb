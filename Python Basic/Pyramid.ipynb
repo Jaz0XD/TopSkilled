{
 "cells": [
  {
   "cell_type": "code",
   "execution_count": 121,
   "metadata": {},
   "outputs": [
    {
     "name": "stdout",
     "output_type": "stream",
     "text": [
      "*\n",
      "**\n",
      "***\n",
      "****\n",
      "*****\n"
     ]
    }
   ],
   "source": [
    "def pyramid(n):\n",
    "    for i in range(1, n+1):\n",
    "        for j in range(0, i):\n",
    "            print(\"*\", end='')\n",
    "        print()\n",
    "        \n",
    "pyramid(5)"
   ]
  },
  {
   "cell_type": "code",
   "execution_count": 41,
   "metadata": {},
   "outputs": [
    {
     "name": "stdout",
     "output_type": "stream",
     "text": [
      "****\n",
      "***\n",
      "**\n",
      "*\n",
      "\n"
     ]
    }
   ],
   "source": [
    "def pyramid(n):\n",
    "    for i in range(1, n+1):\n",
    "        for j in range(n-i):\n",
    "            print(\"*\", end='')\n",
    "        print()\n",
    "        \n",
    "pyramid(5)"
   ]
  },
  {
   "cell_type": "code",
   "execution_count": 63,
   "metadata": {},
   "outputs": [
    {
     "name": "stdout",
     "output_type": "stream",
     "text": [
      "    *\n",
      "   ***\n",
      "  *****\n",
      " *******\n",
      "*********\n"
     ]
    }
   ],
   "source": [
    "def pyramid(n):\n",
    "    for i in range(1, n+1):\n",
    "        for j in range(n-i):\n",
    "            print(' ', end='')\n",
    "        for k in range(1,2*i):\n",
    "            print('*', end='')\n",
    "        print()\n",
    "\n",
    "pyramid(5)"
   ]
  },
  {
   "cell_type": "code",
   "execution_count": 95,
   "metadata": {},
   "outputs": [
    {
     "name": "stdout",
     "output_type": "stream",
     "text": [
      "*****\n",
      "****\n",
      "***\n",
      "**\n",
      "*\n"
     ]
    }
   ],
   "source": [
    "for i in range(5,0,-1):\n",
    "    for j in range(0,i):\n",
    "        print('*', end='')\n",
    "    print()"
   ]
  },
  {
   "cell_type": "code",
   "execution_count": 89,
   "metadata": {},
   "outputs": [
    {
     "name": "stdout",
     "output_type": "stream",
     "text": [
      "*********\n",
      " *******\n",
      "  *****\n",
      "   ***\n",
      "    *\n"
     ]
    }
   ],
   "source": [
    "def pyramid(n):\n",
    "    for i in range(n, 0, -1):\n",
    "        for j in range(n-i):\n",
    "            print(' ', end='')\n",
    "        for k in range(1,2*i):\n",
    "            print('*', end='')\n",
    "        print()\n",
    "\n",
    "pyramid(5)"
   ]
  },
  {
   "cell_type": "code",
   "execution_count": 169,
   "metadata": {},
   "outputs": [
    {
     "name": "stdout",
     "output_type": "stream",
     "text": [
      "    1\n",
      "   121\n",
      "  12321\n",
      " 1234321\n",
      "123454321\n"
     ]
    }
   ],
   "source": [
    "def pyramid(n):\n",
    "    for i in range(1, n+1):\n",
    "        for j in range(n-i):\n",
    "            print(' ', end='')\n",
    "        for k in range(1,i+1):\n",
    "            print(k, end='')\n",
    "        for k in range(i-1, 0,-1):\n",
    "            print(k, end='')\n",
    "        print()\n",
    "\n",
    "pyramid(5)"
   ]
  },
  {
   "cell_type": "code",
   "execution_count": 193,
   "metadata": {},
   "outputs": [
    {
     "name": "stdout",
     "output_type": "stream",
     "text": [
      "    A\n",
      "   ABA\n",
      "  ABCBA\n",
      " ABCDCBA\n",
      "ABCDEDCBA\n"
     ]
    }
   ],
   "source": [
    "def pyramid(n):\n",
    "    for i in range(1, n+1):\n",
    "        for j in range(n-i):\n",
    "            print(' ', end='')\n",
    "        for k in range(1,i+1):\n",
    "            print(chr(64+k), end='')\n",
    "        for k in range(i-1, 0,-1):\n",
    "            print(chr(64+k), end='')\n",
    "        print()\n",
    "\n",
    "pyramid(5)"
   ]
  },
  {
   "cell_type": "code",
   "execution_count": 134,
   "metadata": {},
   "outputs": [
    {
     "name": "stdout",
     "output_type": "stream",
     "text": [
      "A\n"
     ]
    }
   ],
   "source": [
    "z = chr(65)\n",
    "\n",
    "print(z)"
   ]
  },
  {
   "cell_type": "code",
   "execution_count": 179,
   "metadata": {},
   "outputs": [
    {
     "name": "stdout",
     "output_type": "stream",
     "text": [
      "A B C D E F G H I J K L M N O P Q R S T U V W X Y Z "
     ]
    }
   ],
   "source": [
    "for i in range(65, 91):  \n",
    "    print(chr(i), end=\" \")\n"
   ]
  },
  {
   "cell_type": "code",
   "execution_count": 178,
   "metadata": {},
   "outputs": [
    {
     "name": "stdout",
     "output_type": "stream",
     "text": [
      "\\ ] ^ _ ` a b c d e f g h i j k l m n o p q r s t u v w x y z { | } ~ "
     ]
    }
   ],
   "source": [
    "for i in range(92, 127):  \n",
    "    print(chr(i), end=\" \")\n"
   ]
  },
  {
   "cell_type": "code",
   "execution_count": 192,
   "metadata": {},
   "outputs": [
    {
     "name": "stdout",
     "output_type": "stream",
     "text": [
      "A\n",
      "ABA\n",
      "ABCBA\n",
      "ABCDCBA\n",
      "ABCDEDCBA\n"
     ]
    }
   ],
   "source": [
    "\n",
    "def pyramid(n):\n",
    "    for i in range(1, n+1):\n",
    "        # for j in range(n-i):\n",
    "        #     print(' ', end='')\n",
    "        for k in range(1,i+1):\n",
    "            print(chr(64+k), end='')\n",
    "        for k in range(i-1, 0,-1):\n",
    "            print(chr(64+k), end='')\n",
    "        print()\n",
    "\n",
    "pyramid(5)"
   ]
  },
  {
   "cell_type": "code",
   "execution_count": null,
   "metadata": {},
   "outputs": [],
   "source": []
  },
  {
   "cell_type": "code",
   "execution_count": null,
   "metadata": {},
   "outputs": [],
   "source": []
  }
 ],
 "metadata": {
  "kernelspec": {
   "display_name": "base",
   "language": "python",
   "name": "python3"
  },
  "language_info": {
   "codemirror_mode": {
    "name": "ipython",
    "version": 3
   },
   "file_extension": ".py",
   "mimetype": "text/x-python",
   "name": "python",
   "nbconvert_exporter": "python",
   "pygments_lexer": "ipython3",
   "version": "3.12.7"
  }
 },
 "nbformat": 4,
 "nbformat_minor": 2
}
