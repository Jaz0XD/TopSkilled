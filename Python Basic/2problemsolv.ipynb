{
 "cells": [
  {
   "cell_type": "code",
   "execution_count": 22,
   "metadata": {},
   "outputs": [
    {
     "name": "stdout",
     "output_type": "stream",
     "text": [
      "12345\n",
      "54321\n"
     ]
    }
   ],
   "source": [
    "a = 12345\n",
    "print(a)\n",
    "print(str(a)[::-1])"
   ]
  },
  {
   "cell_type": "code",
   "execution_count": 7,
   "metadata": {},
   "outputs": [
    {
     "name": "stdout",
     "output_type": "stream",
     "text": [
      "True\n"
     ]
    }
   ],
   "source": [
    "a = 12321\n",
    "\n",
    "if(str(a) == str(a)[::-1]):\n",
    "    print('True')\n",
    "else:\n",
    "    print('False')"
   ]
  },
  {
   "cell_type": "code",
   "execution_count": 56,
   "metadata": {},
   "outputs": [
    {
     "name": "stdout",
     "output_type": "stream",
     "text": [
      "0\n",
      "1\n",
      "1\n",
      "2\n",
      "3\n",
      "5\n",
      "8\n",
      "13\n",
      "21\n"
     ]
    }
   ],
   "source": [
    "\n",
    "def fibonacci(n):\n",
    "    if n < 0:\n",
    "        return('Invalid')\n",
    "    elif n == 0:\n",
    "        return 0\n",
    "    elif n == 1 or n == 2:\n",
    "        return 1\n",
    "    else:\n",
    "        return (fibonacci(n-1) + fibonacci(n-2))\n",
    "        \n",
    "\n",
    "for i in range(0,9):\n",
    "    print(fibonacci(i))"
   ]
  },
  {
   "cell_type": "code",
   "execution_count": 1,
   "metadata": {},
   "outputs": [
    {
     "name": "stdout",
     "output_type": "stream",
     "text": [
      "720\n"
     ]
    }
   ],
   "source": [
    "a = 6\n",
    "fact = 1\n",
    "\n",
    "for i in range(1, a + 1):\n",
    "    fact *= i\n",
    "\n",
    "print(fact)"
   ]
  },
  {
   "cell_type": "code",
   "execution_count": 55,
   "metadata": {},
   "outputs": [
    {
     "name": "stdout",
     "output_type": "stream",
     "text": [
      "153 is an Armstrong number\n"
     ]
    }
   ],
   "source": [
    "num = 153\n",
    "order = len(str(num))\n",
    "sum = 0\n",
    "\n",
    "temp = num\n",
    "while temp > 0:\n",
    "   digit = temp % 10\n",
    "   sum += digit ** order\n",
    "   temp //= 10\n",
    "\n",
    "if num == sum:\n",
    "   print(num,\"is an Armstrong number\")\n",
    "else:\n",
    "   print(num,\"is not an Armstrong number\")\n"
   ]
  },
  {
   "cell_type": "code",
   "execution_count": 17,
   "metadata": {},
   "outputs": [
    {
     "name": "stdout",
     "output_type": "stream",
     "text": [
      "2 is a prime number\n"
     ]
    }
   ],
   "source": [
    "a = int(input(\"Enter a number: \"))\n",
    "\n",
    "if a > 1:\n",
    "    for i in range(2, a):\n",
    "        if (a % i) == 0:\n",
    "            print(a, \"is not a prime number\")\n",
    "            break\n",
    "    else:\n",
    "        print(a, \"is a prime number\")\n"
   ]
  },
  {
   "cell_type": "code",
   "execution_count": 57,
   "metadata": {},
   "outputs": [
    {
     "name": "stdout",
     "output_type": "stream",
     "text": [
      "6\n",
      "36\n"
     ]
    }
   ],
   "source": [
    "a = 12\n",
    "b = 18\n",
    "\n",
    "def find_gcd(a,b):\n",
    "    while b:\n",
    "        a, b = b, a % b\n",
    "    return a\n",
    "\n",
    "def find_lcm(a,b):\n",
    "    return a * b // find_gcd(a,b)\n",
    "\n",
    "gcd = find_gcd(a,b)\n",
    "lcm = find_lcm(a,b)\n",
    "\n",
    "print(gcd)\n",
    "print(lcm)"
   ]
  },
  {
   "cell_type": "code",
   "execution_count": 58,
   "metadata": {},
   "outputs": [
    {
     "name": "stdout",
     "output_type": "stream",
     "text": [
      "Vowels: 10\n",
      "Consonants: 28\n"
     ]
    }
   ],
   "source": [
    "string = \"Enter a string this is a sample string\"\n",
    "\n",
    "def count_vowels_consonants(s):\n",
    "    vowels = \"aeiouAEIOU\" \n",
    "    vowel_count = 0\n",
    "    consonant_count = 0\n",
    "    \n",
    "    for char in s:\n",
    "        if char in vowels:\n",
    "            vowel_count += 1\n",
    "        else:\n",
    "            consonant_count += 1\n",
    "\n",
    "    return vowel_count, consonant_count\n",
    "\n",
    "vowels, consonants = count_vowels_consonants(string)\n",
    "\n",
    "\n",
    "print(f\"Vowels: {vowels}\")\n",
    "print(f\"Consonants: {consonants}\")\n"
   ]
  },
  {
   "cell_type": "code",
   "execution_count": 59,
   "metadata": {},
   "outputs": [
    {
     "name": "stdout",
     "output_type": "stream",
     "text": [
      "99\n"
     ]
    }
   ],
   "source": [
    "lst = [10, 20, 4, 45, 99, 66, 102]\n",
    "\n",
    "def find_second_largest(lst):\n",
    "    largest = second_largest = 0 #float('-inf')\n",
    "    \n",
    "    for num in lst:\n",
    "        if num > largest:\n",
    "            second_largest = largest\n",
    "            largest = num\n",
    "        elif num > second_largest and num != largest:\n",
    "            second_largest = num\n",
    "    \n",
    "    return second_largest\n",
    "\n",
    "second_largest = find_second_largest(lst)\n",
    "\n",
    "print(second_largest)\n"
   ]
  },
  {
   "cell_type": "code",
   "execution_count": 28,
   "metadata": {},
   "outputs": [
    {
     "name": "stdout",
     "output_type": "stream",
     "text": [
      "8\n"
     ]
    }
   ],
   "source": [
    "lst = [1,2,3,4,5,6,7,9]\n",
    "\n",
    "def findMissingNum(lst):\n",
    "    n = len(lst) + 1\n",
    "    expectedSum = n * (n+1) //2\n",
    "\n",
    "    actualSum = sum(lst)\n",
    "\n",
    "    missingNum = expectedSum - actualSum\n",
    "\n",
    "    return missingNum\n",
    "\n",
    "missedNum = findMissingNum(lst)\n",
    "print(missedNum)"
   ]
  },
  {
   "cell_type": "code",
   "execution_count": 31,
   "metadata": {},
   "outputs": [
    {
     "name": "stdout",
     "output_type": "stream",
     "text": [
      "{4, 5}\n"
     ]
    }
   ],
   "source": [
    "lst = [1,2,3,4,4,5,5 ,6]\n",
    "\n",
    "def findDuplicate(lst):\n",
    "    seen = set()\n",
    "    duplicate = set()\n",
    "\n",
    "    for num in lst:\n",
    "        if num in seen:\n",
    "            duplicate.add(num)\n",
    "        else:\n",
    "            seen.add(num)\n",
    "\n",
    "    if duplicate:\n",
    "        print(duplicate)\n",
    "    else:\n",
    "        print('No Duplicate')\n",
    "\n",
    "findDuplicate(lst)"
   ]
  },
  {
   "cell_type": "code",
   "execution_count": 33,
   "metadata": {},
   "outputs": [
    {
     "name": "stdout",
     "output_type": "stream",
     "text": [
      "[11, 12, 22, 25, 64]\n"
     ]
    }
   ],
   "source": [
    "lst = [64, 25, 12, 22, 11]\n",
    "\n",
    "def bubble_sort(lst):\n",
    "    n = len(lst)\n",
    "    \n",
    "    for i in range(n):\n",
    "        swapped = False\n",
    "    \n",
    "        for j in range(0, n - i - 1):\n",
    "            if lst[j] > lst[j + 1]:\n",
    "\n",
    "                lst[j], lst[j + 1] = lst[j + 1], lst[j]\n",
    "                swapped = True\n",
    "        if not swapped:\n",
    "            break\n",
    "\n",
    "bubble_sort(lst)\n",
    "\n",
    "print(lst)\n"
   ]
  },
  {
   "cell_type": "code",
   "execution_count": 34,
   "metadata": {},
   "outputs": [
    {
     "name": "stdout",
     "output_type": "stream",
     "text": [
      "[11, 12, 22, 25, 64]\n"
     ]
    }
   ],
   "source": [
    "lst = [64, 25, 12, 22, 11]\n",
    "\n",
    "def selection_sort(lst):\n",
    "    n = len(lst)\n",
    "    for i in range(n):\n",
    "\n",
    "        min_index = i\n",
    "        for j in range(i + 1, n):\n",
    "            if lst[j] < lst[min_index]:\n",
    "                min_index = j\n",
    "        lst[i], lst[min_index] = lst[min_index], lst[i]\n",
    "\n",
    "selection_sort(lst)\n",
    "\n",
    "print(lst)\n"
   ]
  },
  {
   "cell_type": "code",
   "execution_count": 35,
   "metadata": {},
   "outputs": [
    {
     "name": "stdout",
     "output_type": "stream",
     "text": [
      "Matrix Addition Result:\n",
      "[10, 10, 10]\n",
      "[10, 10, 10]\n",
      "[10, 10, 10]\n"
     ]
    }
   ],
   "source": [
    "A = [\n",
    "    [1, 2, 3],\n",
    "    [4, 5, 6],\n",
    "    [7, 8, 9]\n",
    "]\n",
    "\n",
    "B = [\n",
    "    [9, 8, 7],\n",
    "    [6, 5, 4],\n",
    "    [3, 2, 1]\n",
    "]\n",
    "\n",
    "\n",
    "def matrix_addition(A, B):\n",
    "    \n",
    "    result = []\n",
    "    for i in range(len(A)):\n",
    "        row = []\n",
    "        for j in range(len(A[0])):\n",
    "            row.append(A[i][j] + B[i][j])\n",
    "        result.append(row)\n",
    "    \n",
    "    return result\n",
    "\n",
    "result_add = matrix_addition(A, B)\n",
    "for row in result_add:\n",
    "    print(row)\n"
   ]
  },
  {
   "cell_type": "code",
   "execution_count": 37,
   "metadata": {},
   "outputs": [
    {
     "name": "stdout",
     "output_type": "stream",
     "text": [
      "[19, 22]\n",
      "[43, 50]\n"
     ]
    }
   ],
   "source": [
    "A = [\n",
    "    [1, 2],\n",
    "    [3, 4]\n",
    "]\n",
    "\n",
    "B = [\n",
    "    [5, 6],\n",
    "    [7, 8]\n",
    "]\n",
    "\n",
    "\n",
    "def matrix_multiplication(A, B):\n",
    "    \n",
    "    result = []\n",
    "    for i in range(len(A)):  \n",
    "        row = []\n",
    "        for j in range(len(B[0])):\n",
    "            sum_product = 0\n",
    "            for k in range(len(B)):\n",
    "                sum_product += A[i][k] * B[k][j]\n",
    "            row.append(sum_product)\n",
    "        result.append(row)\n",
    "    \n",
    "    return result\n",
    "\n",
    "result_multiply = matrix_multiplication(A, B)\n",
    "\n",
    "for row in result_multiply:\n",
    "    print(row)\n"
   ]
  },
  {
   "cell_type": "code",
   "execution_count": 60,
   "metadata": {},
   "outputs": [
    {
     "name": "stdout",
     "output_type": "stream",
     "text": [
      "11\n"
     ]
    }
   ],
   "source": [
    "binary_num = 1011\n",
    "\n",
    "def binaryToDecimal(binary):\n",
    "    decimal = 0\n",
    "    binary = str(binary)\n",
    "\n",
    "    for i in range(len(binary)):\n",
    "        bit = int(binary[len(binary) - i -1])\n",
    "        decimal += bit * (2**i)\n",
    "    return decimal\n",
    "decimal_result = binaryToDecimal(binary_num)\n",
    "print(decimal_result)"
   ]
  },
  {
   "cell_type": "code",
   "execution_count": 54,
   "metadata": {},
   "outputs": [
    {
     "name": "stdout",
     "output_type": "stream",
     "text": [
      "1011\n"
     ]
    }
   ],
   "source": [
    "decimal_num = 11\n",
    "\n",
    "def decimal_to_binary(decimal):\n",
    "    if decimal == 0:\n",
    "        return '0'\n",
    "    \n",
    "    binary = \"\"\n",
    "    while decimal > 0:\n",
    "        remainder = decimal % 2  \n",
    "        binary = str(remainder) + binary\n",
    "        decimal = decimal // 2 \n",
    "    \n",
    "    return binary\n",
    "\n",
    "\n",
    "binary_result = decimal_to_binary(decimal_num)\n",
    "print(binary_result)\n"
   ]
  },
  {
   "cell_type": "code",
   "execution_count": 4,
   "metadata": {},
   "outputs": [
    {
     "name": "stdout",
     "output_type": "stream",
     "text": [
      "11\n"
     ]
    }
   ],
   "source": [
    "bn = input('Enter a binary number: ')\n",
    "dec = int(bn, 2)\n",
    "print(dec)"
   ]
  },
  {
   "cell_type": "code",
   "execution_count": 5,
   "metadata": {},
   "outputs": [
    {
     "name": "stdout",
     "output_type": "stream",
     "text": [
      "19\n"
     ]
    }
   ],
   "source": [
    "bn = input('Enter a binary number: ')\n",
    "bn = int(bn)\n",
    "\n",
    "dec = 0\n",
    "i =  0\n",
    "\n",
    "while bn>0:\n",
    "    r = bn%10\n",
    "    exp = r*(2**i)\n",
    "    dec = dec + exp\n",
    "    bn = bn //10\n",
    "    i+=1\n",
    "\n",
    "print(dec)"
   ]
  },
  {
   "cell_type": "code",
   "execution_count": 9,
   "metadata": {},
   "outputs": [
    {
     "name": "stdout",
     "output_type": "stream",
     "text": [
      "1011\n"
     ]
    }
   ],
   "source": [
    "bn = int(input('Enter a decimal number: '))\n",
    "dec = bin(bn)\n",
    "dec = dec.replace('0b', '')\n",
    "print(dec)"
   ]
  },
  {
   "cell_type": "code",
   "execution_count": null,
   "metadata": {},
   "outputs": [],
   "source": []
  },
  {
   "cell_type": "code",
   "execution_count": null,
   "metadata": {},
   "outputs": [],
   "source": []
  }
 ],
 "metadata": {
  "kernelspec": {
   "display_name": "base",
   "language": "python",
   "name": "python3"
  },
  "language_info": {
   "codemirror_mode": {
    "name": "ipython",
    "version": 3
   },
   "file_extension": ".py",
   "mimetype": "text/x-python",
   "name": "python",
   "nbconvert_exporter": "python",
   "pygments_lexer": "ipython3",
   "version": "3.12.7"
  }
 },
 "nbformat": 4,
 "nbformat_minor": 2
}
